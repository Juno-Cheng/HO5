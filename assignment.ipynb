{
 "cells": [
  {
   "cell_type": "markdown",
   "id": "37514a60-b7df-4e26-8be6-800b7a9e9f81",
   "metadata": {},
   "source": [
    "# Hands-On Assignment 5\n",
    "\n",
    "In this assignment, you will practice everything that you have learned so far in an end-to-end setting.\n",
    "You will be provided with a dataset that is **unique to you**, and your task is to perform\n",
    "all the steps from previous assignments to clean, explore, visualize, and analyze your dataset.\n",
    "\n",
    "**Written Portion**: Additionally, you will create a report that describes your process and provides insights about your dataset.\n",
    "Each section that should appear in your report is noted with an orange star (like normal HO tasks).  The report should be  4-6 pages (12 pt font, 1.5 line spacing), and turned in on Canvas as a PDF.\n",
    "\n",
    "The coding aspect for this assignment will be turned in the same was as all other HO's,\n",
    "by submitting this file to the autograder.\n",
    "\n",
    "\n",
    "For this assignment, feel free to make additional functions instead of implementing everything in the provided function.\n",
    "\n",
    "The objective of this assignment is for you to apply and solidify the skills you have learned in previous assignments."
   ]
  },
  {
   "cell_type": "markdown",
   "id": "25860737-2a22-4dd3-8f9c-1f8039f1a67f",
   "metadata": {},
   "source": [
    "# Prompt\n",
    "\n",
    "You have graduated from this class, and are a huge success!\n",
    "You landed a job doing data science at some fancy company.\n",
    "\n",
    "You just got a new client with some really interesting problems you get to solve.\n",
    "Unfortunately, because of a big mess-up on their side the data's metadata got corrupted up\n",
    "(and the person that used to maintain the data just took a vow of silence and moved to a bog).\n",
    "\n",
    "The only column you are sure about is the `label` column,\n",
    "which contains a numeric label for each row.\n",
    "Aside from that, the client does not know anything about the names, content, or even data types for each column.\n",
    "\n",
    "Your task is to explore, clean, and analyze this data.\n",
    "You should have already received an email with the details on obtaining your unique data.\n",
    "Place it in the same directory as this notebook (and your `grade_local.py` script) and name it `data.txt`.\n",
    "\n",
    "*I know this prompt may sound unrealistic, but I have literally been in a situation exactly like this.\n",
    "I was working at a database startup, and one of our clients gave us data with over 70 columns and more than a million records and told us:\n",
    "\"The person who used to manage the data is no longer working with us, but this was the data they used to make all their decisions.\n",
    "We also lost all the metadata information, like column names.\"\n",
    "...\n",
    "Working in industry is not always glamorous.\n",
    "-Eriq*"
   ]
  },
  {
   "cell_type": "markdown",
   "id": "4fb229b6-7448-4d18-8d66-ae09853ed1cd",
   "metadata": {},
   "source": [
    "# Part 0: Explore Your Data\n",
    "\n",
    "Before you start doing things to/with your data, it's always a good idea to load up your data and take a look."
   ]
  },
  {
   "cell_type": "code",
   "execution_count": null,
   "id": "bb1e1f63-a84d-4452-b52b-1aacaee00148",
   "metadata": {},
   "outputs": [],
   "source": [
    "import pandas\n",
    "\n",
    "# Modify this to point to your data.\n",
    "unique_data = pandas.read_csv('data.txt', sep = \"\\t\")\n",
    "unique_data"
   ]
  },
  {
   "cell_type": "markdown",
   "id": "7320acb5-49a8-4a94-a044-36bc5056e87c",
   "metadata": {},
   "source": [
    "Don't forget to checkout the column information."
   ]
  },
  {
   "cell_type": "code",
   "execution_count": null,
   "id": "a97970b3-3439-44f8-a586-12e2b7e66a1c",
   "metadata": {},
   "outputs": [],
   "source": [
    "unique_data.info()"
   ]
  },
  {
   "cell_type": "markdown",
   "id": "a4522967-f408-4b57-9f8b-1a7df188ec4f",
   "metadata": {},
   "source": [
    "And any numeric information."
   ]
  },
  {
   "cell_type": "code",
   "execution_count": null,
   "id": "b927511d-c9a3-44a1-8cf5-e6257396a92a",
   "metadata": {},
   "outputs": [],
   "source": [
    "unique_data.describe()"
   ]
  },
  {
   "cell_type": "markdown",
   "id": "259eb219-6e00-4ac1-b400-417e036f7146",
   "metadata": {},
   "source": [
    "<h4 style=\"color: darkorange\";>★ Written Task: Introduction</h4>\n",
    "\n",
    "Briefly describe the dataset you’re given and define the goal of the project and how you approach it.\n",
    "For example, you can present a basic introduction of your data (shape and proposed data types)\n",
    "and your goal is to use these features to predict the label of the response variable.\n",
    "Then you propose a few models that are suitable for this project which will be introduced in the modeling section."
   ]
  },
  {
   "cell_type": "markdown",
   "id": "4811a58d-2d2b-43db-92e3-3d05c6a24ea3",
   "metadata": {},
   "source": [
    "# Part 1: Data Cleaning\n",
    "\n",
    "As always, we should start with data cleaning.\n",
    "Take what you learned from HO3 to clean up this messy data to a point where it is ready for machine learning algorithms.\n",
    "\n",
    "Some things you may want to do:\n",
    " - Deal with missing/empty values.\n",
    " - Fix numeric columns so that they actually contain numbers.\n",
    " - Remove inconsistencies from columns.\n",
    " - Assign a data type to each column."
   ]
  },
  {
   "cell_type": "markdown",
   "id": "431c9f31-9286-40a6-8816-d6dfd643ab04",
   "metadata": {},
   "source": [
    "<h4 style=\"color: darkorange\";>★ Task 1.A</h4>\n",
    "\n",
    "Complete the following function that takes in a DataFrame and outputs a clean version of the DataFrame.\n",
    "You can assume that the frame has all the same structure as your unique dataset.\n",
    "You can return the same or a new data frame."
   ]
  },
  {
   "cell_type": "code",
   "execution_count": null,
   "id": "115f8eb6-71ec-4036-80e9-39cd51d67166",
   "metadata": {},
   "outputs": [],
   "source": [
    "def clean_data(frame):\n",
    "    return NotImplemented\n",
    "\n",
    "unique_data = clean_data(unique_data)\n",
    "unique_data"
   ]
  },
  {
   "cell_type": "markdown",
   "id": "7c55d30a-550d-46f3-ad3b-c0e49a1b8a10",
   "metadata": {},
   "source": [
    "Now we should also be able to view all the numeric columns."
   ]
  },
  {
   "cell_type": "code",
   "execution_count": null,
   "id": "f886c77c-0dad-47ae-ab2b-8661ec63f98f",
   "metadata": {},
   "outputs": [],
   "source": [
    "unique_data.info()"
   ]
  },
  {
   "cell_type": "markdown",
   "id": "47bff37a-7241-4a4a-bc2d-8a30a54826f4",
   "metadata": {},
   "source": [
    "<h4 style=\"color: darkorange\";>★ Written Task: Data Cleaning</h4>\n",
    "\n",
    "Describe the steps you took for data cleaning.\n",
    "Why did you do this?\n",
    "Did you have to make some choices along the way? If so, describe them."
   ]
  },
  {
   "cell_type": "markdown",
   "id": "430a58e3-0ac0-4629-bc72-4a7ba71cf68e",
   "metadata": {},
   "source": [
    "# Part 2: Data Visualization\n",
    "\n",
    "Once you have cleaned up the data, it is time to explore it and find interesting things.\n",
    "Part of this exploration, will be visualizing the data in a way that makes it easier for yourself and others to understand.\n",
    "Use what you have learned in HO1 and HO2 to create some visualizations for your dataset."
   ]
  },
  {
   "cell_type": "markdown",
   "id": "c220e6d0-202a-4f9e-b5de-0167025ff2ad",
   "metadata": {},
   "source": [
    "<h4 style=\"color: darkorange\";>★ Written Task: Data Visualization</h4>\n",
    "\n",
    "Create at least two different visualizations that help describe what you see in your dataset.\n",
    "Include these visualizations in your report along with descriptions of\n",
    "how you created the visualization,\n",
    "what data preparation you had to do for the visualization (aside from the data cleaning in the previous part),\n",
    "and what the visualization tells us about the data."
   ]
  },
  {
   "cell_type": "markdown",
   "id": "3b1f3fb1-16c8-4079-9bdf-b8a8db02370a",
   "metadata": {},
   "source": [
    "# Part 3: Modeling\n",
    "\n",
    "Now that you have a good grasp of your clean data,\n",
    "it is time to do some machine learning!\n",
    "(Technically all our previous steps were also machine learning,\n",
    "but now we get to use classifiers!)\n",
    "\n",
    "Use the skills you developed to select **three** classifiers and implement them on your data.\n",
    "For example, you can narrow down your choices to three classifiers which may include:\n",
    "- Logistic regression\n",
    "- K-nearest neighbors\n",
    "- Decision tree\n",
    "- Or others"
   ]
  },
  {
   "cell_type": "markdown",
   "id": "0924e896-2c73-4c83-89b4-54c6a8423e69",
   "metadata": {},
   "source": [
    "<h4 style=\"color: darkorange\";>★ Task 3.A</h4>\n",
    "\n",
    "Complete the following function that takes in no parameters,\n",
    "and returns a list with **three** untrained classifiers you are going to explore in this assignment.\n",
    "This method may set parameters/options for the classifiers, but should not do any training/fitting.\n",
    "\n",
    "For example, if you wanted to use logistic regression,\n",
    "then **one** of your list items may be:\n",
    "```\n",
    "sklearn.linear_model.LogisticRegression()\n",
    "```"
   ]
  },
  {
   "cell_type": "code",
   "execution_count": null,
   "id": "fce3b3a5-91a3-4c7a-85f1-84b266a5a781",
   "metadata": {},
   "outputs": [],
   "source": [
    "def create_classifiers():\n",
    "    return NotImplemented\n",
    "\n",
    "my_classifiers = create_classifiers()\n",
    "my_classifiers"
   ]
  },
  {
   "cell_type": "markdown",
   "id": "e2c115a2-9b07-438a-bd5f-682c22078ca2",
   "metadata": {},
   "source": [
    "Now that we have some classifiers, we can see how they perform."
   ]
  },
  {
   "cell_type": "markdown",
   "id": "7795bb4a-4545-47fc-9c77-4861a4820333",
   "metadata": {},
   "source": [
    "<h4 style=\"color: darkorange\";>★ Task 3.B</h4>\n",
    "\n",
    "Complete the following function that takes in an untrained classifier, a DataFrame, and a number of folds.\n",
    "This function should run k-fold cross validation with the classifier and the data,\n",
    "and return a list with the accuracy of each run of cross validation.\n",
    "You can assume that the frame has the column `label` and the rest of the columns can be considered clean numeric features.\n",
    "\n",
    "Note that you may have to break your frame into features and labels to do this.\n",
    "Do not change the passed-in frame (make copies instead).\n",
    "\n",
    "If you are getting any `ConvergenceWarning`s you may either ignore them,\n",
    "or try and address them\n",
    "(they will not affect your autograder score, but may be something to discuss in the written portion of this assignment)."
   ]
  },
  {
   "cell_type": "code",
   "execution_count": null,
   "id": "5770c5ea-18fe-41f3-ad5b-e72f463be876",
   "metadata": {},
   "outputs": [],
   "source": [
    "def cross_fold_validation(classifier, frame, folds):\n",
    "    return NotImplemented\n",
    "\n",
    "my_classifiers_scores = []\n",
    "for classifier in my_classifiers:\n",
    "    accuracy_scores = cross_fold_validation(classifier, unique_data, 5)\n",
    "    my_classifiers_scores.append(accuracy_scores)\n",
    "    print(\"Classifier: %s, Accuracy: %s.\" % (type(classifier).__name__, accuracy_scores))"
   ]
  },
  {
   "cell_type": "markdown",
   "id": "4c8c8552-9d78-4393-a9e8-f1e583e0e93e",
   "metadata": {},
   "source": [
    "<h4 style=\"color: darkorange\";>★ Task 3.C</h4>\n",
    "\n",
    "Complete the following function that takes in two equally-sized lists of numbers and a p-value.\n",
    "This function should compute whether there is a statistical significance between\n",
    "these two lists of numbers using a [Student's t-test](https://en.wikipedia.org/wiki/Student%27s_t-test)\n",
    "at the given p-value.\n",
    "Return `True` if there is a statistical significance, and `False` otherwise.\n",
    "Hint: If you wish, you may use the `ttest_ind()` [method](https://docs.scipy.org/doc/scipy/reference/generated/scipy.stats.ttest_ind.html) provided in the scipy package. "
   ]
  },
  {
   "cell_type": "code",
   "execution_count": null,
   "id": "ed3c9500-b91a-400a-8f1a-4f1e971fca26",
   "metadata": {},
   "outputs": [],
   "source": [
    "def significance_test(a_values, b_values, p_value):\n",
    "    return NotImplemented\n",
    "\n",
    "for i in range(len(my_classifiers)):\n",
    "    for j in range(i + 1, len(my_classifiers)):\n",
    "        significant = significance_test(my_classifiers_scores[i], my_classifiers_scores[j], 0.10)\n",
    "        print(\"%s vs %s: %s\" % (type(my_classifiers[i]).__name__,\n",
    "                                type(my_classifiers[j]).__name__, significant))"
   ]
  },
  {
   "cell_type": "markdown",
   "id": "78ea725c-f53a-48a6-a939-93c88a366905",
   "metadata": {},
   "source": [
    "<h4 style=\"color: darkorange\";>★ Written Task: Modeling</h4>\n",
    "\n",
    "Describe the classifiers you have chosen.\n",
    "Be sure to include all details about any parameter settings used for the algorithms.\n",
    "\n",
    "Compare the performance of your models using k-fold validation.\n",
    "You may look at accuracy, F1 or other measures.\n",
    "\n",
    "Then, briefly summarize your results.\n",
    "Are your results statistically significant?\n",
    "Is there a clear winner?\n",
    "What do the standard deviations look like, and what do they tell us about the different models?\n",
    "Include a table like Table 1.\n",
    "\n",
    "<center>Table 1: Every table need a caption.</center>\n",
    "\n",
    "| Model | Mean Accuracy | Standard Deviation of Accuracy |\n",
    "|-------|---------------|--------------------------------|\n",
    "| Logistic Regression | 0.724 | 0.004\n",
    "| K-Nearest Neighbor | 0.750 | 0.003\n",
    "| Decision Tree | 0.655 | 0.011"
   ]
  },
  {
   "cell_type": "markdown",
   "id": "4127f125-5ddf-4bc6-a6b6-4679cb0158d1",
   "metadata": {},
   "source": [
    "# Part 4: Analysis\n",
    "\n",
    "Now, take some time to go over your results for each classifier and try to make sense of them.\n",
    " - Why do some classifiers work better than others?\n",
    " - Would another evaluation metric work better than vanilla accuracy?\n",
    " - Is there still a problem in the data that should fixed in data cleaning?\n",
    " - Does the statistical significance between the different classifiers make sense?\n",
    " - Are there parameters for the classifier that I can tweak to get better performance?"
   ]
  },
  {
   "cell_type": "markdown",
   "id": "06f6ef88-5094-4692-acad-22eb38d3713e",
   "metadata": {},
   "source": [
    "<h4 style=\"color: darkorange\";>★ Written Task: Analysis</h4>\n",
    "\n",
    "Discuss your observations, the relationship you found, and how you applied concepts from the class to this project.\n",
    "For example, you may find that some feature has the most impact in predicting your response variable or removing a feature improves the model accuracy.\n",
    "Or you may observe that your training accuracy is much higher than your test accuracy and you may want to explain what issues may arise."
   ]
  },
  {
   "cell_type": "markdown",
   "id": "26983b3b-cbb1-4f7f-a15d-95f0a654b5ea",
   "metadata": {},
   "source": [
    "# Part 5: Conclusion"
   ]
  },
  {
   "cell_type": "markdown",
   "id": "50ecfa57-af63-472f-9041-b08bb5506fb9",
   "metadata": {},
   "source": [
    "<h4 style=\"color: darkorange\";>★ Written Task: Conclusion</h4>\n",
    "\n",
    "Briefly summarize the important results and conclusions presented in the project.\n",
    "What are the important points illustrated by your work?\n",
    "Are there any areas for further investigation or improvement?"
   ]
  },
  {
   "cell_type": "markdown",
   "id": "f1d7f964-b4e6-4b84-a0fd-9d815f06980e",
   "metadata": {},
   "source": [
    "<h4 style=\"color: darkorange\";>★ Written Task: References</h4>\n",
    "\n",
    "Include a standard bibliography with citations referring to techniques or published papers you used throughout your report (if you used any).\n",
    "\n",
    "For example:\n",
    "```\n",
    "[1] Derpanopoulos, G. (n.d.). Bayesian Model Checking & Comparison.\n",
    "https://georgederpa.github.io/teaching/modelChecking.html.\n",
    "```"
   ]
  },
  {
   "cell_type": "markdown",
   "id": "750f6601-a2e8-4bd8-aa58-b1b4b9310454",
   "metadata": {},
   "source": [
    "# Part XC: Extra Credit\n",
    "\n",
    "So far you have used a synthetic dataset that was created just for you.\n",
    "But, data science is always more interesting when you are dealing with actual data from the real world.\n",
    "Therefore, you will have an opportunity for extra credit on this assignment using real-world data.\n",
    "\n",
    "For extra credit, repeat the **written tasks** of Parts 0 through 4 with an additional dataset that you find yourself.\n",
    "For the written portion of the extra credit for Part 0, include information about where you got the data and what the data represents.\n",
    "You may choose any dataset that represents real data (i.e., is **not** synthetic or generated)\n",
    "and is **not** [pre-packaged in scikit-learn](https://scikit-learn.org/stable/datasets.html).\n",
    "\n",
    "Below are some of the many places you can start looking for datasets:\n",
    " - [Kaggle](https://www.kaggle.com/datasets) -- Kaggle is a website focused around machine learning competitions,\n",
    "       where people compete to see who can get the best results on a dataset.\n",
    "       It is very popular in the machine learning community and has thousands of datasets with descriptions.\n",
    "       Make sure to read the dataset's description, as Kaggle also has synthetic datasets.\n",
    " - [data.gov](https://data.gov/) -- A portal for data from the US government.\n",
    "        The US government has a lot of data, and much of it has to be available to the public by law.\n",
    "        This portal contains some of the more organized data from several different government agencies.\n",
    "        In general, the government has A LOT of interesting data.\n",
    "        It may not always be clean (remember the CIA factbook), but it is interesting and available.\n",
    "        All data here should be real-world, but make sure to read the description to verify.\n",
    " - [UCI's Machine Learning Repository](https://archive.ics.uci.edu/ml/datasets.php) -- UC Irvine has their own data repository with a few hundred datasets on many different topics.\n",
    "        Make sure to read the dataset's description, as UCI also has synthetic datasets.\n",
    " - [WHO's Global Health Observatory](https://apps.who.int/gho/data/node.home) -- The World Health Organization keeps track of many different health-related statistics for most of the countries in the world.\n",
    "        All data here should be real-world, but make sure to read the description to verify.\n",
    " - [Google's Dataset Search](https://datasetsearch.research.google.com/) -- Google indexes many datasets that can be searched here.\n",
    "\n",
    "You can even create a dataset from scratch if you find some data you like that is not already organized into a specific dataset.\n",
    "The only real distinction between \"data\" and a \"dataset\" is that a dataset is organized and finite (has a fixed size).\n",
    "\n",
    "Create a new section in your written report for this extra credit and include all the written tasks for the extra credit there.\n",
    "Each written task/section that you complete for your new dataset is eligible for extra credit (so you can still receive some extra credit even if you do not complete all parts).\n",
    "There is no need to submit any code for the extra credit.\n",
    "If you created a new dataset, include the dataset or links to it with your submission."
   ]
  }
 ],
 "metadata": {
  "kernelspec": {
   "display_name": "Python 3 (ipykernel)",
   "language": "python",
   "name": "python3"
  },
  "language_info": {
   "codemirror_mode": {
    "name": "ipython",
    "version": 3
   },
   "file_extension": ".py",
   "mimetype": "text/x-python",
   "name": "python",
   "nbconvert_exporter": "python",
   "pygments_lexer": "ipython3",
   "version": "3.11.3"
  }
 },
 "nbformat": 4,
 "nbformat_minor": 5
}
